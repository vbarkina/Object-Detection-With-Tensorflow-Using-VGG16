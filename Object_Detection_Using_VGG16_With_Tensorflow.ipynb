{
  "nbformat": 4,
  "nbformat_minor": 0,
  "metadata": {
    "colab": {
      "name": "Object Detection Using VGG16 With Tensorflow.ipynb",
      "provenance": [],
      "collapsed_sections": []
    },
    "kernelspec": {
      "name": "python3",
      "display_name": "Python 3"
    },
    "accelerator": "GPU"
  },
  "cells": [
    {
      "cell_type": "markdown",
      "metadata": {
        "id": "iVKGF4unVslV"
      },
      "source": [
        ""
      ]
    },
    {
      "cell_type": "code",
      "metadata": {
        "id": "Vl_dLDnV_Lys"
      },
      "source": [
        "import os\n",
        "base_path=\"/content/drive/MyDrive/Applied_Ai_Course/Datasets\"\n",
        "images=os.path.sep.join([base_path,'images'])\n",
        "annotations=os.path.sep.join([base_path,'airplanes.csv'])"
      ],
      "execution_count": 175,
      "outputs": []
    },
    {
      "cell_type": "code",
      "metadata": {
        "id": "ztWsfMIXFFlK"
      },
      "source": [
        "# Lets Load Dataset\n",
        "# airplanes annotation is a Csv file thats why we can see through with rows\n",
        "\n",
        "rows= open(annotations).read().strip().split(\"\\n\")\n",
        "\n",
        "# lets make three list where we save our exact bounding boxes\n",
        "data=[]\n",
        "targets=[]\n",
        "filenames=[]"
      ],
      "execution_count": 176,
      "outputs": []
    },
    {
      "cell_type": "code",
      "metadata": {
        "id": "-C1Ynxw7FveF"
      },
      "source": [
        "# After load we have to split dataset according to images\n",
        "# import some usefull libraries\n",
        "import cv2\n",
        "from tensorflow.keras.preprocessing.image import load_img\n",
        "# we also save images into array format so import img_array library too\n",
        "from tensorflow.keras.preprocessing.image import img_to_array\n",
        "for row in rows:\n",
        "  row=row.split(\",\")\n",
        "  # we always create rectangle with h+w so we have to know where exactly we should start from\n",
        "  (filename,startX,startY,endX,endY)=row\n",
        "\n",
        "  imagepaths=os.path.sep.join([images,filename])\n",
        "  image=cv2.imread(imagepaths)\n",
        "  (h,w)=image.shape[:2]\n",
        "\n",
        "  # initializing starting point\n",
        "  # Why we take in float because when we convert into array so then will trouble happen\n",
        "  startX = float(startX) / w\n",
        "  startY = float(startY) / h\n",
        "  # Also initialize ending point \n",
        "  endX = float(endX) / w\n",
        "  endY = float(endY) / h\n",
        "  #load image and give them default size\n",
        "  image=load_img(imagepaths,target_size=(224,224))\n",
        "  # see here if we cant take it into float then we face trouble \n",
        "  image=img_to_array(image)\n",
        "\n",
        "  # Lets append into data , targets ,filenames\n",
        "  targets.append((startX,startY,endX,endY))\n",
        "  filenames.append(filename)\n",
        "  data.append(image)\n"
      ],
      "execution_count": 177,
      "outputs": []
    },
    {
      "cell_type": "code",
      "metadata": {
        "id": "0J6zfNkZJKi_"
      },
      "source": [
        "# Normalizing Data here also we face would face issues if we take input as integer\n",
        "import numpy as np\n",
        "data=np.array(data,dtype='float32') / 255.0\n",
        "targets=np.array(targets,dtype='float32')"
      ],
      "execution_count": 178,
      "outputs": []
    },
    {
      "cell_type": "code",
      "metadata": {
        "id": "cI3z3eOUJdCI"
      },
      "source": [
        "# we should seperate data into train and split so import sklearn library \n",
        "from sklearn.model_selection import train_test_split"
      ],
      "execution_count": 179,
      "outputs": []
    },
    {
      "cell_type": "code",
      "metadata": {
        "id": "2WwSEjEJK1MI"
      },
      "source": [
        "# split into testing and training\n",
        "split=train_test_split(data,targets,filenames,test_size=0.10,random_state=42)"
      ],
      "execution_count": 180,
      "outputs": []
    },
    {
      "cell_type": "code",
      "metadata": {
        "id": "sxxnaBHhLIyR"
      },
      "source": [
        "# lets split into steps\n",
        "(train_images,test_images) = split[:2]\n",
        "(train_targets,test_targets) = split[2:4]\n",
        "(train_filenames,test_filenames) = split[4:]\n"
      ],
      "execution_count": 181,
      "outputs": []
    },
    {
      "cell_type": "code",
      "metadata": {
        "id": "MZBKv2k_L62z"
      },
      "source": [
        "# lets import pre trained VGG16 Which is already Builtin for computer vision\n",
        "from tensorflow.keras.applications import VGG16\n",
        "from tensorflow.keras.layers import Input"
      ],
      "execution_count": 182,
      "outputs": []
    },
    {
      "cell_type": "code",
      "metadata": {
        "id": "YpIvvM48MUOs"
      },
      "source": [
        "# Imagenet is a competition every year held and VGG16 is winner of between  2013-14\n",
        "# so here we just want limited layers so thats why we false included_top \n",
        "vgg=VGG16(weights='imagenet',include_top=False,input_tensor=Input(shape=(224,224,3)))"
      ],
      "execution_count": 183,
      "outputs": []
    },
    {
      "cell_type": "code",
      "metadata": {
        "colab": {
          "base_uri": "https://localhost:8080/"
        },
        "id": "gPaFO3AZNZOE",
        "outputId": "98af118e-9bc5-4ad4-aac0-6c1c965740a9"
      },
      "source": [
        "vgg.summary()"
      ],
      "execution_count": 184,
      "outputs": [
        {
          "output_type": "stream",
          "text": [
            "Model: \"vgg16\"\n",
            "_________________________________________________________________\n",
            "Layer (type)                 Output Shape              Param #   \n",
            "=================================================================\n",
            "input_4 (InputLayer)         [(None, 224, 224, 3)]     0         \n",
            "_________________________________________________________________\n",
            "block1_conv1 (Conv2D)        (None, 224, 224, 64)      1792      \n",
            "_________________________________________________________________\n",
            "block1_conv2 (Conv2D)        (None, 224, 224, 64)      36928     \n",
            "_________________________________________________________________\n",
            "block1_pool (MaxPooling2D)   (None, 112, 112, 64)      0         \n",
            "_________________________________________________________________\n",
            "block2_conv1 (Conv2D)        (None, 112, 112, 128)     73856     \n",
            "_________________________________________________________________\n",
            "block2_conv2 (Conv2D)        (None, 112, 112, 128)     147584    \n",
            "_________________________________________________________________\n",
            "block2_pool (MaxPooling2D)   (None, 56, 56, 128)       0         \n",
            "_________________________________________________________________\n",
            "block3_conv1 (Conv2D)        (None, 56, 56, 256)       295168    \n",
            "_________________________________________________________________\n",
            "block3_conv2 (Conv2D)        (None, 56, 56, 256)       590080    \n",
            "_________________________________________________________________\n",
            "block3_conv3 (Conv2D)        (None, 56, 56, 256)       590080    \n",
            "_________________________________________________________________\n",
            "block3_pool (MaxPooling2D)   (None, 28, 28, 256)       0         \n",
            "_________________________________________________________________\n",
            "block4_conv1 (Conv2D)        (None, 28, 28, 512)       1180160   \n",
            "_________________________________________________________________\n",
            "block4_conv2 (Conv2D)        (None, 28, 28, 512)       2359808   \n",
            "_________________________________________________________________\n",
            "block4_conv3 (Conv2D)        (None, 28, 28, 512)       2359808   \n",
            "_________________________________________________________________\n",
            "block4_pool (MaxPooling2D)   (None, 14, 14, 512)       0         \n",
            "_________________________________________________________________\n",
            "block5_conv1 (Conv2D)        (None, 14, 14, 512)       2359808   \n",
            "_________________________________________________________________\n",
            "block5_conv2 (Conv2D)        (None, 14, 14, 512)       2359808   \n",
            "_________________________________________________________________\n",
            "block5_conv3 (Conv2D)        (None, 14, 14, 512)       2359808   \n",
            "_________________________________________________________________\n",
            "block5_pool (MaxPooling2D)   (None, 7, 7, 512)         0         \n",
            "=================================================================\n",
            "Total params: 14,714,688\n",
            "Trainable params: 14,714,688\n",
            "Non-trainable params: 0\n",
            "_________________________________________________________________\n"
          ],
          "name": "stdout"
        }
      ]
    },
    {
      "cell_type": "code",
      "metadata": {
        "id": "0YPGZE1oNdvP"
      },
      "source": [
        "from tensorflow.keras.layers import Input,Flatten,Dense"
      ],
      "execution_count": 185,
      "outputs": []
    },
    {
      "cell_type": "code",
      "metadata": {
        "id": "Qg2i026tNnOM"
      },
      "source": [
        "# we use VGG16 as per our requirement not use whole \n",
        "vgg.trainable = False\n",
        "\n",
        "flatten = vgg.output\n",
        "\n",
        "flatten = Flatten()(flatten)"
      ],
      "execution_count": 186,
      "outputs": []
    },
    {
      "cell_type": "code",
      "metadata": {
        "id": "zBCbiwSMODz-"
      },
      "source": [
        "# Lets make bboxhead\n",
        "bboxhead = Dense(128,activation=\"relu\")(flatten)\n",
        "bboxhead = Dense(64,activation=\"relu\")(bboxhead)\n",
        "bboxhead = Dense(32,activation=\"relu\")(bboxhead)\n",
        "bboxhead = Dense(4,activation=\"relu\")(bboxhead)"
      ],
      "execution_count": 187,
      "outputs": []
    },
    {
      "cell_type": "code",
      "metadata": {
        "id": "6whx45l1OdFW"
      },
      "source": [
        "# lets import Model\n",
        "from tensorflow.keras.models import Model\n",
        "model = Model(inputs = vgg.input,outputs = bboxhead)"
      ],
      "execution_count": 188,
      "outputs": []
    },
    {
      "cell_type": "code",
      "metadata": {
        "colab": {
          "base_uri": "https://localhost:8080/"
        },
        "id": "nhp9ptwpO7_7",
        "outputId": "95426c6f-3ea8-49df-c5b5-fcf5b098b9ff"
      },
      "source": [
        "model.summary()"
      ],
      "execution_count": 189,
      "outputs": [
        {
          "output_type": "stream",
          "text": [
            "Model: \"functional_7\"\n",
            "_________________________________________________________________\n",
            "Layer (type)                 Output Shape              Param #   \n",
            "=================================================================\n",
            "input_4 (InputLayer)         [(None, 224, 224, 3)]     0         \n",
            "_________________________________________________________________\n",
            "block1_conv1 (Conv2D)        (None, 224, 224, 64)      1792      \n",
            "_________________________________________________________________\n",
            "block1_conv2 (Conv2D)        (None, 224, 224, 64)      36928     \n",
            "_________________________________________________________________\n",
            "block1_pool (MaxPooling2D)   (None, 112, 112, 64)      0         \n",
            "_________________________________________________________________\n",
            "block2_conv1 (Conv2D)        (None, 112, 112, 128)     73856     \n",
            "_________________________________________________________________\n",
            "block2_conv2 (Conv2D)        (None, 112, 112, 128)     147584    \n",
            "_________________________________________________________________\n",
            "block2_pool (MaxPooling2D)   (None, 56, 56, 128)       0         \n",
            "_________________________________________________________________\n",
            "block3_conv1 (Conv2D)        (None, 56, 56, 256)       295168    \n",
            "_________________________________________________________________\n",
            "block3_conv2 (Conv2D)        (None, 56, 56, 256)       590080    \n",
            "_________________________________________________________________\n",
            "block3_conv3 (Conv2D)        (None, 56, 56, 256)       590080    \n",
            "_________________________________________________________________\n",
            "block3_pool (MaxPooling2D)   (None, 28, 28, 256)       0         \n",
            "_________________________________________________________________\n",
            "block4_conv1 (Conv2D)        (None, 28, 28, 512)       1180160   \n",
            "_________________________________________________________________\n",
            "block4_conv2 (Conv2D)        (None, 28, 28, 512)       2359808   \n",
            "_________________________________________________________________\n",
            "block4_conv3 (Conv2D)        (None, 28, 28, 512)       2359808   \n",
            "_________________________________________________________________\n",
            "block4_pool (MaxPooling2D)   (None, 14, 14, 512)       0         \n",
            "_________________________________________________________________\n",
            "block5_conv1 (Conv2D)        (None, 14, 14, 512)       2359808   \n",
            "_________________________________________________________________\n",
            "block5_conv2 (Conv2D)        (None, 14, 14, 512)       2359808   \n",
            "_________________________________________________________________\n",
            "block5_conv3 (Conv2D)        (None, 14, 14, 512)       2359808   \n",
            "_________________________________________________________________\n",
            "block5_pool (MaxPooling2D)   (None, 7, 7, 512)         0         \n",
            "_________________________________________________________________\n",
            "flatten_3 (Flatten)          (None, 25088)             0         \n",
            "_________________________________________________________________\n",
            "dense_12 (Dense)             (None, 128)               3211392   \n",
            "_________________________________________________________________\n",
            "dense_13 (Dense)             (None, 64)                8256      \n",
            "_________________________________________________________________\n",
            "dense_14 (Dense)             (None, 32)                2080      \n",
            "_________________________________________________________________\n",
            "dense_15 (Dense)             (None, 4)                 132       \n",
            "=================================================================\n",
            "Total params: 17,936,548\n",
            "Trainable params: 3,221,860\n",
            "Non-trainable params: 14,714,688\n",
            "_________________________________________________________________\n"
          ],
          "name": "stdout"
        }
      ]
    },
    {
      "cell_type": "code",
      "metadata": {
        "id": "Fye3qz96O9y2"
      },
      "source": [
        "# Lets fit our model \n",
        "# Optimization \n",
        "from tensorflow.keras.optimizers import Adam\n",
        "\n",
        "opt = Adam(1e-4)"
      ],
      "execution_count": 190,
      "outputs": []
    },
    {
      "cell_type": "code",
      "metadata": {
        "id": "o1G-qSwgPX6u"
      },
      "source": [
        "model.compile(loss='mse',optimizer=opt)"
      ],
      "execution_count": 191,
      "outputs": []
    },
    {
      "cell_type": "code",
      "metadata": {
        "colab": {
          "base_uri": "https://localhost:8080/"
        },
        "id": "rOfPJd6RPek5",
        "outputId": "fade4076-7c0d-44e4-abb0-c0e9deb9edc6"
      },
      "source": [
        "history = model.fit(train_images,train_targets,validation_data=(test_images,test_targets),batch_size=32,epochs=50,verbose=1)"
      ],
      "execution_count": 192,
      "outputs": [
        {
          "output_type": "stream",
          "text": [
            "Epoch 1/50\n",
            "23/23 [==============================] - 4s 155ms/step - loss: 0.0342 - val_loss: 0.0186\n",
            "Epoch 2/50\n",
            "23/23 [==============================] - 3s 152ms/step - loss: 0.0124 - val_loss: 0.0080\n",
            "Epoch 3/50\n",
            "23/23 [==============================] - 4s 153ms/step - loss: 0.0072 - val_loss: 0.0069\n",
            "Epoch 4/50\n",
            "23/23 [==============================] - 4s 155ms/step - loss: 0.0061 - val_loss: 0.0066\n",
            "Epoch 5/50\n",
            "23/23 [==============================] - 4s 155ms/step - loss: 0.0057 - val_loss: 0.0064\n",
            "Epoch 6/50\n",
            "23/23 [==============================] - 3s 151ms/step - loss: 0.0042 - val_loss: 0.0026\n",
            "Epoch 7/50\n",
            "23/23 [==============================] - 3s 148ms/step - loss: 0.0017 - val_loss: 0.0022\n",
            "Epoch 8/50\n",
            "23/23 [==============================] - 3s 147ms/step - loss: 0.0011 - val_loss: 0.0019\n",
            "Epoch 9/50\n",
            "23/23 [==============================] - 3s 146ms/step - loss: 7.5519e-04 - val_loss: 0.0020\n",
            "Epoch 10/50\n",
            "23/23 [==============================] - 3s 142ms/step - loss: 6.2409e-04 - val_loss: 0.0018\n",
            "Epoch 11/50\n",
            "23/23 [==============================] - 3s 141ms/step - loss: 5.1805e-04 - val_loss: 0.0017\n",
            "Epoch 12/50\n",
            "23/23 [==============================] - 3s 140ms/step - loss: 4.3773e-04 - val_loss: 0.0018\n",
            "Epoch 13/50\n",
            "23/23 [==============================] - 3s 139ms/step - loss: 3.7624e-04 - val_loss: 0.0017\n",
            "Epoch 14/50\n",
            "23/23 [==============================] - 3s 138ms/step - loss: 3.0916e-04 - val_loss: 0.0016\n",
            "Epoch 15/50\n",
            "23/23 [==============================] - 3s 138ms/step - loss: 2.7746e-04 - val_loss: 0.0017\n",
            "Epoch 16/50\n",
            "23/23 [==============================] - 3s 139ms/step - loss: 2.4081e-04 - val_loss: 0.0017\n",
            "Epoch 17/50\n",
            "23/23 [==============================] - 3s 139ms/step - loss: 2.0326e-04 - val_loss: 0.0016\n",
            "Epoch 18/50\n",
            "23/23 [==============================] - 3s 139ms/step - loss: 1.8227e-04 - val_loss: 0.0017\n",
            "Epoch 19/50\n",
            "23/23 [==============================] - 3s 139ms/step - loss: 1.6671e-04 - val_loss: 0.0016\n",
            "Epoch 20/50\n",
            "23/23 [==============================] - 3s 139ms/step - loss: 1.4739e-04 - val_loss: 0.0016\n",
            "Epoch 21/50\n",
            "23/23 [==============================] - 3s 140ms/step - loss: 1.2999e-04 - val_loss: 0.0016\n",
            "Epoch 22/50\n",
            "23/23 [==============================] - 3s 142ms/step - loss: 1.1637e-04 - val_loss: 0.0016\n",
            "Epoch 23/50\n",
            "23/23 [==============================] - 3s 144ms/step - loss: 1.0369e-04 - val_loss: 0.0016\n",
            "Epoch 24/50\n",
            "23/23 [==============================] - 3s 145ms/step - loss: 9.5637e-05 - val_loss: 0.0016\n",
            "Epoch 25/50\n",
            "23/23 [==============================] - 3s 148ms/step - loss: 8.6480e-05 - val_loss: 0.0016\n",
            "Epoch 26/50\n",
            "23/23 [==============================] - 3s 148ms/step - loss: 8.1371e-05 - val_loss: 0.0016\n",
            "Epoch 27/50\n",
            "23/23 [==============================] - 3s 148ms/step - loss: 7.6879e-05 - val_loss: 0.0016\n",
            "Epoch 28/50\n",
            "23/23 [==============================] - 3s 147ms/step - loss: 7.5892e-05 - val_loss: 0.0016\n",
            "Epoch 29/50\n",
            "23/23 [==============================] - 3s 147ms/step - loss: 6.9565e-05 - val_loss: 0.0016\n",
            "Epoch 30/50\n",
            "23/23 [==============================] - 3s 145ms/step - loss: 6.9834e-05 - val_loss: 0.0016\n",
            "Epoch 31/50\n",
            "23/23 [==============================] - 3s 145ms/step - loss: 7.2559e-05 - val_loss: 0.0016\n",
            "Epoch 32/50\n",
            "23/23 [==============================] - 3s 145ms/step - loss: 7.9856e-05 - val_loss: 0.0016\n",
            "Epoch 33/50\n",
            "23/23 [==============================] - 3s 143ms/step - loss: 8.3668e-05 - val_loss: 0.0016\n",
            "Epoch 34/50\n",
            "23/23 [==============================] - 3s 143ms/step - loss: 9.3816e-05 - val_loss: 0.0016\n",
            "Epoch 35/50\n",
            "23/23 [==============================] - 3s 142ms/step - loss: 9.1081e-05 - val_loss: 0.0017\n",
            "Epoch 36/50\n",
            "23/23 [==============================] - 3s 142ms/step - loss: 7.7571e-05 - val_loss: 0.0015\n",
            "Epoch 37/50\n",
            "23/23 [==============================] - 3s 142ms/step - loss: 6.3817e-05 - val_loss: 0.0016\n",
            "Epoch 38/50\n",
            "23/23 [==============================] - 3s 142ms/step - loss: 5.2386e-05 - val_loss: 0.0017\n",
            "Epoch 39/50\n",
            "23/23 [==============================] - 3s 142ms/step - loss: 5.4663e-05 - val_loss: 0.0015\n",
            "Epoch 40/50\n",
            "23/23 [==============================] - 3s 142ms/step - loss: 5.1314e-05 - val_loss: 0.0016\n",
            "Epoch 41/50\n",
            "23/23 [==============================] - 3s 142ms/step - loss: 5.9441e-05 - val_loss: 0.0015\n",
            "Epoch 42/50\n",
            "23/23 [==============================] - 3s 142ms/step - loss: 5.2642e-05 - val_loss: 0.0016\n",
            "Epoch 43/50\n",
            "23/23 [==============================] - 3s 143ms/step - loss: 5.3741e-05 - val_loss: 0.0015\n",
            "Epoch 44/50\n",
            "23/23 [==============================] - 3s 143ms/step - loss: 4.8830e-05 - val_loss: 0.0016\n",
            "Epoch 45/50\n",
            "23/23 [==============================] - 3s 143ms/step - loss: 5.1866e-05 - val_loss: 0.0015\n",
            "Epoch 46/50\n",
            "23/23 [==============================] - 3s 144ms/step - loss: 4.8851e-05 - val_loss: 0.0016\n",
            "Epoch 47/50\n",
            "23/23 [==============================] - 3s 144ms/step - loss: 5.3998e-05 - val_loss: 0.0016\n",
            "Epoch 48/50\n",
            "23/23 [==============================] - 3s 145ms/step - loss: 7.1642e-05 - val_loss: 0.0015\n",
            "Epoch 49/50\n",
            "23/23 [==============================] - 3s 144ms/step - loss: 7.0317e-05 - val_loss: 0.0016\n",
            "Epoch 50/50\n",
            "23/23 [==============================] - 3s 145ms/step - loss: 7.0439e-05 - val_loss: 0.0017\n"
          ],
          "name": "stdout"
        }
      ]
    },
    {
      "cell_type": "code",
      "metadata": {
        "id": "lxlowj7qPyyv"
      },
      "source": [
        "# lets save model \n",
        "model.save('detect_Planes.h5')"
      ],
      "execution_count": 228,
      "outputs": []
    },
    {
      "cell_type": "code",
      "metadata": {
        "id": "42ly_eqHQh6v"
      },
      "source": [
        "from tensorflow.keras.models import load_model"
      ],
      "execution_count": 229,
      "outputs": []
    },
    {
      "cell_type": "code",
      "metadata": {
        "id": "THgB3xU0QqGI"
      },
      "source": [
        "model=load_model('/content/detect_Planes.h5')"
      ],
      "execution_count": 230,
      "outputs": []
    },
    {
      "cell_type": "code",
      "metadata": {
        "id": "w-tWP_UtQuwk"
      },
      "source": [
        "imagepath='/content/drive/MyDrive/Applied_Ai_Course/Datasets/images/image_0111.jpg'"
      ],
      "execution_count": 231,
      "outputs": []
    },
    {
      "cell_type": "code",
      "metadata": {
        "id": "IV_2eMaxQ6pa"
      },
      "source": [
        "image = load_img(imagepath,\n",
        "                 target_size=(224,224))\n",
        "image = img_to_array(image) / 255.0\n",
        "image = np.expand_dims(image,axis=0)"
      ],
      "execution_count": 232,
      "outputs": []
    },
    {
      "cell_type": "code",
      "metadata": {
        "id": "XVLc6q9_RO8m",
        "colab": {
          "base_uri": "https://localhost:8080/"
        },
        "outputId": "101aa2c3-0af5-4be8-ef7e-13a7c8680530"
      },
      "source": [
        "preds=model.predict(image)[0]\n",
        "(startX,startY,endX,endY)=preds"
      ],
      "execution_count": 233,
      "outputs": [
        {
          "output_type": "stream",
          "text": [
            "WARNING:tensorflow:5 out of the last 11 calls to <function Model.make_predict_function.<locals>.predict_function at 0x7fb51c1a81e0> triggered tf.function retracing. Tracing is expensive and the excessive number of tracings could be due to (1) creating @tf.function repeatedly in a loop, (2) passing tensors with different shapes, (3) passing Python objects instead of tensors. For (1), please define your @tf.function outside of the loop. For (2), @tf.function has experimental_relax_shapes=True option that relaxes argument shapes that can avoid unnecessary retracing. For (3), please refer to https://www.tensorflow.org/tutorials/customization/performance#python_or_tensor_args and https://www.tensorflow.org/api_docs/python/tf/function for  more details.\n"
          ],
          "name": "stdout"
        }
      ]
    },
    {
      "cell_type": "code",
      "metadata": {
        "id": "B0tlESgNRkcW"
      },
      "source": [
        "import imutils"
      ],
      "execution_count": 234,
      "outputs": []
    },
    {
      "cell_type": "code",
      "metadata": {
        "id": "UjPHbP2sRnUH"
      },
      "source": [
        "image=cv2.imread(imagepaths)\n",
        "image=imutils.resize(image,width=600)"
      ],
      "execution_count": 235,
      "outputs": []
    },
    {
      "cell_type": "code",
      "metadata": {
        "id": "mMj9dh6IRuAm"
      },
      "source": [
        "(h,w)=image.shape[:2]"
      ],
      "execution_count": 236,
      "outputs": []
    },
    {
      "cell_type": "code",
      "metadata": {
        "id": "oHiDSiASSKXE"
      },
      "source": [
        "startX=int(startX * w)\n",
        "startY=int(startY * h)\n",
        "\n",
        "endX=int(endX * w)\n",
        "endY=int(endY * h)"
      ],
      "execution_count": 237,
      "outputs": []
    },
    {
      "cell_type": "code",
      "metadata": {
        "colab": {
          "base_uri": "https://localhost:8080/"
        },
        "id": "Wo2Ps1aEScXZ",
        "outputId": "8266c719-e5a5-49fe-be0d-ba5098824f32"
      },
      "source": [
        "cv2.rectangle(image,(startX,startY),(endX,endY),(0,255,0),3)"
      ],
      "execution_count": 238,
      "outputs": [
        {
          "output_type": "execute_result",
          "data": {
            "text/plain": [
              "array([[[255, 255, 255],\n",
              "        [255, 255, 255],\n",
              "        [255, 255, 255],\n",
              "        ...,\n",
              "        [255, 255, 255],\n",
              "        [255, 255, 255],\n",
              "        [255, 255, 255]],\n",
              "\n",
              "       [[255, 255, 255],\n",
              "        [255, 255, 255],\n",
              "        [255, 255, 255],\n",
              "        ...,\n",
              "        [255, 255, 255],\n",
              "        [255, 255, 255],\n",
              "        [255, 255, 255]],\n",
              "\n",
              "       [[255, 255, 255],\n",
              "        [255, 255, 255],\n",
              "        [255, 255, 255],\n",
              "        ...,\n",
              "        [255, 255, 255],\n",
              "        [255, 255, 255],\n",
              "        [255, 255, 255]],\n",
              "\n",
              "       ...,\n",
              "\n",
              "       [[255, 255, 255],\n",
              "        [255, 255, 255],\n",
              "        [255, 255, 255],\n",
              "        ...,\n",
              "        [255, 255, 255],\n",
              "        [255, 255, 255],\n",
              "        [255, 255, 255]],\n",
              "\n",
              "       [[255, 255, 255],\n",
              "        [255, 255, 255],\n",
              "        [255, 255, 255],\n",
              "        ...,\n",
              "        [255, 255, 255],\n",
              "        [255, 255, 255],\n",
              "        [255, 255, 255]],\n",
              "\n",
              "       [[255, 255, 255],\n",
              "        [255, 255, 255],\n",
              "        [255, 255, 255],\n",
              "        ...,\n",
              "        [255, 255, 255],\n",
              "        [255, 255, 255],\n",
              "        [255, 255, 255]]], dtype=uint8)"
            ]
          },
          "metadata": {
            "tags": []
          },
          "execution_count": 238
        }
      ]
    },
    {
      "cell_type": "code",
      "metadata": {
        "id": "uklFcl2AStTe"
      },
      "source": [
        "\n",
        "from google.colab.patches import cv2_imshow\n"
      ],
      "execution_count": 239,
      "outputs": []
    },
    {
      "cell_type": "code",
      "metadata": {
        "colab": {
          "base_uri": "https://localhost:8080/",
          "height": 181
        },
        "id": "jUNMby9FS3OJ",
        "outputId": "7a89dff4-d565-4be3-cae3-5cc030a95719"
      },
      "source": [
        "import matplotlib.pyplot as plt\n",
        "plt.imshow(image)\n",
        "cv2.waitKey(0)"
      ],
      "execution_count": 240,
      "outputs": [
        {
          "output_type": "execute_result",
          "data": {
            "text/plain": [
              "-1"
            ]
          },
          "metadata": {
            "tags": []
          },
          "execution_count": 240
        },
        {
          "output_type": "display_data",
          "data": {
            "image/png": "[encoded data removed]",
            "text/plain": [
              "<Figure size 432x288 with 1 Axes>"
            ]
          },
          "metadata": {
            "tags": [],
            "needs_background": "light"
          }
        }
      ]
    },
    {
      "cell_type": "code",
      "metadata": {
        "id": "sknQm7nFTmVZ"
      },
      "source": [
        ""
      ],
      "execution_count": 240,
      "outputs": []
    }
  ]
}